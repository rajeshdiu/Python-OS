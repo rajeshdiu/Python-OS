{
 "cells": [
  {
   "cell_type": "code",
   "execution_count": 40,
   "id": "667b184b",
   "metadata": {},
   "outputs": [],
   "source": [
    "import os"
   ]
  },
  {
   "cell_type": "code",
   "execution_count": 41,
   "id": "2b596dc6",
   "metadata": {},
   "outputs": [],
   "source": [
    "myDir=\"New Folder\""
   ]
  },
  {
   "cell_type": "code",
   "execution_count": 42,
   "id": "8e37efc7",
   "metadata": {},
   "outputs": [],
   "source": [
    "Parent_Dir=\"C:\\\\Users\\\\User\\\\Desktop\\\\Deep Learning\""
   ]
  },
  {
   "cell_type": "code",
   "execution_count": 43,
   "id": "176a4301",
   "metadata": {},
   "outputs": [
    {
     "data": {
      "text/plain": [
       "'C:\\\\Users\\\\User\\\\Desktop\\\\Deep Learning'"
      ]
     },
     "execution_count": 43,
     "metadata": {},
     "output_type": "execute_result"
    }
   ],
   "source": [
    "Parent_Dir"
   ]
  },
  {
   "cell_type": "code",
   "execution_count": 44,
   "id": "ee40bca9",
   "metadata": {},
   "outputs": [],
   "source": [
    "path=os.path.join(Parent_Dir,myDir)"
   ]
  },
  {
   "cell_type": "code",
   "execution_count": 45,
   "id": "2e66e186",
   "metadata": {},
   "outputs": [],
   "source": [
    "img_dir=[]"
   ]
  },
  {
   "cell_type": "code",
   "execution_count": 46,
   "id": "694ba9e9",
   "metadata": {},
   "outputs": [],
   "source": [
    "for i in os.scandir(Parent_Dir):\n",
    "    if i.is_dir():\n",
    "        img_dir.append(i.path)"
   ]
  },
  {
   "cell_type": "code",
   "execution_count": 47,
   "id": "7a24a3c6",
   "metadata": {},
   "outputs": [
    {
     "data": {
      "text/plain": [
       "['C:\\\\Users\\\\User\\\\Desktop\\\\Deep Learning\\\\Activation-Function',\n",
       " 'C:\\\\Users\\\\User\\\\Desktop\\\\Deep Learning\\\\rad',\n",
       " 'C:\\\\Users\\\\User\\\\Desktop\\\\Deep Learning\\\\RituRaj']"
      ]
     },
     "execution_count": 47,
     "metadata": {},
     "output_type": "execute_result"
    }
   ],
   "source": [
    "img_dir"
   ]
  },
  {
   "cell_type": "code",
   "execution_count": 48,
   "id": "97325963",
   "metadata": {},
   "outputs": [],
   "source": [
    "import shutil\n",
    "if os.path.exists(path):\n",
    "     shutil.rmtree(path)\n",
    "os.mkdir(path)"
   ]
  },
  {
   "cell_type": "code",
   "execution_count": null,
   "id": "456f8666",
   "metadata": {},
   "outputs": [],
   "source": []
  },
  {
   "cell_type": "code",
   "execution_count": null,
   "id": "19a65826",
   "metadata": {},
   "outputs": [],
   "source": []
  }
 ],
 "metadata": {
  "kernelspec": {
   "display_name": "Python 3",
   "language": "python",
   "name": "python3"
  },
  "language_info": {
   "codemirror_mode": {
    "name": "ipython",
    "version": 3
   },
   "file_extension": ".py",
   "mimetype": "text/x-python",
   "name": "python",
   "nbconvert_exporter": "python",
   "pygments_lexer": "ipython3",
   "version": "3.8.8"
  }
 },
 "nbformat": 4,
 "nbformat_minor": 5
}
